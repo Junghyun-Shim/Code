{
 "cells": [
  {
   "cell_type": "code",
   "execution_count": null,
   "metadata": {
    "scrolled": true
   },
   "outputs": [],
   "source": [
    "from selenium import webdriver\n",
    "import time\n",
    "from bs4 import BeautifulSoup\n",
    "import pandas as pd\n",
    "import numpy as np\n",
    "driver = webdriver.Chrome('c:/chromedriver')\n",
    "driver.get(\"https://github.com/skdltm517?tab=following\")\n",
    "\n",
    "\n",
    "def collect():\n",
    "    #학생 리스트 받아오기\n",
    "    html_students = driver.page_source\n",
    "    soup_students = BeautifulSoup(html_students, 'html.parser')\n",
    "    students_raw_list = soup_students.find_all('span', class_ = 'link-gray pl-1')\n",
    "    students_list = [i.string for i in students_raw_list]\n",
    "    time.sleep(1)\n",
    "    \n",
    "    #학생 페이지 가서 긁기 전체\n",
    "    for i in range(0,len(students_list)):\n",
    "        # following 에서 학생 ID 클릭\n",
    "        i += 1\n",
    "        driver.find_element_by_xpath(\"\"\"//*[@id=\"js-pjax-container\"]/div/div[4]/div[3]/div[{}]/div[2]/a/span[2]\"\"\".format(i)).click()\n",
    "        time.sleep(1)\n",
    "        # repositories 메뉴 클릭\n",
    "        driver.find_element_by_xpath(\"\"\"//*[@id=\"js-pjax-container\"]/div/div[4]/div[2]/nav/a[2]\"\"\").click()\n",
    "        time.sleep(1)\n",
    "        \n",
    "        # repositories 메뉴 파싱\n",
    "        html_repositories = driver.page_source\n",
    "        soup_repositories = BeautifulSoup(html_repositories, 'html.parser')\n",
    "        time.sleep(1)\n",
    "        \n",
    "        # repositories text만 분류\n",
    "        repositories_raw_list = soup_repositories.find_all('div', class_=\"d-inline-block mb-1\")\n",
    "        repositories_list = [k.get_text() for k in repositories_raw_list]\n",
    "        time.sleep(1)\n",
    "        \n",
    "        for j in range(0,len(repositories_list)):\n",
    "            #과제 클릭\n",
    "            j += 1\n",
    "            driver.find_element_by_xpath(\"\"\"//*[@id=\"user-repositories-list\"]/ul/li[{}]/div[1]/div[1]/h3/a\"\"\".format(j)).click()  \n",
    "            time.sleep(1)\n",
    "            \n",
    "            # main.c 들어가기\n",
    "            driver.find_element_by_xpath('//*[@title=\"main.c\"]').click()\n",
    "            time.sleep(1)\n",
    "            \n",
    "            # history 버튼 누르기\n",
    "            driver.find_element_by_xpath(\"\"\"//*[@id=\"js-repo-pjax-container\"]/div[2]/div/div[4]/div[1]/div[2]/div[1]/a[3]\"\"\").click()\n",
    "            \n",
    "            # history 내역 페이지 파싱\n",
    "            html_history = driver.page_source\n",
    "            soup_history = BeautifulSoup(html_history, 'html.parser')\n",
    "            time.sleep(1)\n",
    "            \n",
    "            #history text만 분류\n",
    "            history_raw_list = soup_history.find_all('a', class_ = \"message js-navigation-open\")\n",
    "            history_list = [m.get_text() for m in history_raw_list]\n",
    "            \n",
    "            \n",
    "            \n",
    "            code_list = []\n",
    "            for h in history_list:\n",
    "\n",
    "                driver.find_element_by_xpath('//*[@aria-label=\"{}\"]'.format(h)).click()  # aria-label로 클릭\n",
    "                time.sleep(2)\n",
    "                \n",
    "                html_code = driver.page_source  #코드 작성 페이지를 html에 저장\n",
    "                soup_code = BeautifulSoup(html_code, 'html.parser') #파싱\n",
    "                time.sleep(1)\n",
    "                \n",
    "                code_raw_list = soup_code.find_all(\"span\", class_ = 'blob-code-inner') #코드 부분 html을 test에 저장\n",
    "                code_list_ = [q.get_text() for q in code_raw_list] # 코드부분 text를 리스트에 저장\n",
    "                code_list.append(code_list_)\n",
    "                time.sleep(2)\n",
    "                \n",
    "                driver.back()  # 뒤로가기\n",
    "                time.sleep(1)\n",
    "                count+=1\n",
    "                \n",
    "                print(i, j, h, \"진행 완료\")\n",
    "            \n",
    "            #code_list를 dataframe으로 만들어서 txt 파일로 저장\n",
    "            df = pd.DataFrame(code_list)\n",
    "            df.to_csv('./result.csv')\n",
    "            \n",
    "            driver.back()  # 뒤로가기\n",
    "            time.sleep(1)\n",
    "        driver.back()  # 뒤로가기(학생 처음 눌렀을때 페이지로 감)\n",
    "        time.sleep(1)      \n",
    "        driver.back()  # 뒤로가기(학생 고르는 페이지로 감)\n",
    "        time.sleep(1)      \n",
    "    return code_list\n",
    "    \n",
    "result = collect()"
   ]
  },
  {
   "cell_type": "code",
   "execution_count": 25,
   "metadata": {},
   "outputs": [],
   "source": [
    "testlist = [[\"dfdfdfd\"], [\"dfsdfsdf\"]]"
   ]
  },
  {
   "cell_type": "code",
   "execution_count": 8,
   "metadata": {},
   "outputs": [],
   "source": [
    "import pandas as pd\n",
    "import numpy as np"
   ]
  },
  {
   "cell_type": "code",
   "execution_count": 26,
   "metadata": {},
   "outputs": [],
   "source": [
    "test = pd.DataFrame(testlist)"
   ]
  },
  {
   "cell_type": "code",
   "execution_count": 27,
   "metadata": {},
   "outputs": [
    {
     "data": {
      "text/html": [
       "<div>\n",
       "<style scoped>\n",
       "    .dataframe tbody tr th:only-of-type {\n",
       "        vertical-align: middle;\n",
       "    }\n",
       "\n",
       "    .dataframe tbody tr th {\n",
       "        vertical-align: top;\n",
       "    }\n",
       "\n",
       "    .dataframe thead th {\n",
       "        text-align: right;\n",
       "    }\n",
       "</style>\n",
       "<table border=\"1\" class=\"dataframe\">\n",
       "  <thead>\n",
       "    <tr style=\"text-align: right;\">\n",
       "      <th></th>\n",
       "      <th>0</th>\n",
       "    </tr>\n",
       "  </thead>\n",
       "  <tbody>\n",
       "    <tr>\n",
       "      <td>0</td>\n",
       "      <td>dfdfdfd</td>\n",
       "    </tr>\n",
       "    <tr>\n",
       "      <td>1</td>\n",
       "      <td>dfsdfsdf</td>\n",
       "    </tr>\n",
       "  </tbody>\n",
       "</table>\n",
       "</div>"
      ],
      "text/plain": [
       "          0\n",
       "0   dfdfdfd\n",
       "1  dfsdfsdf"
      ]
     },
     "execution_count": 27,
     "metadata": {},
     "output_type": "execute_result"
    }
   ],
   "source": [
    "test"
   ]
  },
  {
   "cell_type": "code",
   "execution_count": 28,
   "metadata": {},
   "outputs": [],
   "source": [
    "result_save = test.to_csv('./test.csv', encoding='euc_kr')"
   ]
  },
  {
   "cell_type": "code",
   "execution_count": 18,
   "metadata": {},
   "outputs": [],
   "source": [
    "data = {'state':['ohio','ohio','ohio','nevada','nevada'],\n",
    "       'year':[2000,2001,2002,2001,2002],\n",
    "       'pop':[1.5,1.7,3.6,2.4,2.9]}"
   ]
  },
  {
   "cell_type": "code",
   "execution_count": 20,
   "metadata": {},
   "outputs": [],
   "source": [
    "df=pd.DataFrame(data)"
   ]
  },
  {
   "cell_type": "code",
   "execution_count": 22,
   "metadata": {},
   "outputs": [],
   "source": [
    "result_save = df.to_csv('./test.csv')"
   ]
  },
  {
   "cell_type": "code",
   "execution_count": 23,
   "metadata": {},
   "outputs": [],
   "source": [
    "result_save"
   ]
  },
  {
   "cell_type": "code",
   "execution_count": 24,
   "metadata": {},
   "outputs": [
    {
     "data": {
      "text/html": [
       "<div>\n",
       "<style scoped>\n",
       "    .dataframe tbody tr th:only-of-type {\n",
       "        vertical-align: middle;\n",
       "    }\n",
       "\n",
       "    .dataframe tbody tr th {\n",
       "        vertical-align: top;\n",
       "    }\n",
       "\n",
       "    .dataframe thead th {\n",
       "        text-align: right;\n",
       "    }\n",
       "</style>\n",
       "<table border=\"1\" class=\"dataframe\">\n",
       "  <thead>\n",
       "    <tr style=\"text-align: right;\">\n",
       "      <th></th>\n",
       "      <th>state</th>\n",
       "      <th>year</th>\n",
       "      <th>pop</th>\n",
       "    </tr>\n",
       "  </thead>\n",
       "  <tbody>\n",
       "    <tr>\n",
       "      <td>0</td>\n",
       "      <td>ohio</td>\n",
       "      <td>2000</td>\n",
       "      <td>1.5</td>\n",
       "    </tr>\n",
       "    <tr>\n",
       "      <td>1</td>\n",
       "      <td>ohio</td>\n",
       "      <td>2001</td>\n",
       "      <td>1.7</td>\n",
       "    </tr>\n",
       "    <tr>\n",
       "      <td>2</td>\n",
       "      <td>ohio</td>\n",
       "      <td>2002</td>\n",
       "      <td>3.6</td>\n",
       "    </tr>\n",
       "    <tr>\n",
       "      <td>3</td>\n",
       "      <td>nevada</td>\n",
       "      <td>2001</td>\n",
       "      <td>2.4</td>\n",
       "    </tr>\n",
       "    <tr>\n",
       "      <td>4</td>\n",
       "      <td>nevada</td>\n",
       "      <td>2002</td>\n",
       "      <td>2.9</td>\n",
       "    </tr>\n",
       "  </tbody>\n",
       "</table>\n",
       "</div>"
      ],
      "text/plain": [
       "    state  year  pop\n",
       "0    ohio  2000  1.5\n",
       "1    ohio  2001  1.7\n",
       "2    ohio  2002  3.6\n",
       "3  nevada  2001  2.4\n",
       "4  nevada  2002  2.9"
      ]
     },
     "execution_count": 24,
     "metadata": {},
     "output_type": "execute_result"
    }
   ],
   "source": [
    "df"
   ]
  },
  {
   "cell_type": "code",
   "execution_count": 31,
   "metadata": {},
   "outputs": [],
   "source": [
    "count=\n",
    "code_list = [0]\n",
    "code_list[count] = [123123]"
   ]
  },
  {
   "cell_type": "code",
   "execution_count": 32,
   "metadata": {},
   "outputs": [
    {
     "data": {
      "text/plain": [
       "[[123123]]"
      ]
     },
     "execution_count": 32,
     "metadata": {},
     "output_type": "execute_result"
    }
   ],
   "source": [
    "code_list"
   ]
  },
  {
   "cell_type": "code",
   "execution_count": 33,
   "metadata": {},
   "outputs": [
    {
     "ename": "IndexError",
     "evalue": "list assignment index out of range",
     "output_type": "error",
     "traceback": [
      "\u001b[1;31m---------------------------------------------------------------------------\u001b[0m",
      "\u001b[1;31mIndexError\u001b[0m                                Traceback (most recent call last)",
      "\u001b[1;32m<ipython-input-33-1654329af9a2>\u001b[0m in \u001b[0;36m<module>\u001b[1;34m\u001b[0m\n\u001b[0;32m      1\u001b[0m \u001b[0mcount\u001b[0m\u001b[1;33m=\u001b[0m\u001b[1;36m1\u001b[0m\u001b[1;33m\u001b[0m\u001b[1;33m\u001b[0m\u001b[0m\n\u001b[1;32m----> 2\u001b[1;33m \u001b[0mcode_list\u001b[0m\u001b[1;33m[\u001b[0m\u001b[0mcount\u001b[0m\u001b[1;33m]\u001b[0m \u001b[1;33m=\u001b[0m \u001b[1;33m[\u001b[0m\u001b[1;36m12312223\u001b[0m\u001b[1;33m]\u001b[0m\u001b[1;33m\u001b[0m\u001b[1;33m\u001b[0m\u001b[0m\n\u001b[0m",
      "\u001b[1;31mIndexError\u001b[0m: list assignment index out of range"
     ]
    }
   ],
   "source": [
    "count=1\n",
    "code_list[count] = [12312223]"
   ]
  },
  {
   "cell_type": "code",
   "execution_count": 34,
   "metadata": {},
   "outputs": [
    {
     "ename": "NoSuchElementException",
     "evalue": "Message: no such element: Unable to locate element: {\"method\":\"xpath\",\"selector\":\"//*[@title=\"main.c\"]\"}\n  (Session info: chrome=78.0.3904.97)\n",
     "output_type": "error",
     "traceback": [
      "\u001b[1;31m---------------------------------------------------------------------------\u001b[0m",
      "\u001b[1;31mNoSuchElementException\u001b[0m                    Traceback (most recent call last)",
      "\u001b[1;32m<ipython-input-34-ff73e852a646>\u001b[0m in \u001b[0;36m<module>\u001b[1;34m\u001b[0m\n\u001b[0;32m     95\u001b[0m     \u001b[1;32mreturn\u001b[0m \u001b[0mcode_list\u001b[0m\u001b[1;33m\u001b[0m\u001b[1;33m\u001b[0m\u001b[0m\n\u001b[0;32m     96\u001b[0m \u001b[1;33m\u001b[0m\u001b[0m\n\u001b[1;32m---> 97\u001b[1;33m \u001b[0mresult\u001b[0m \u001b[1;33m=\u001b[0m \u001b[0mcollect\u001b[0m\u001b[1;33m(\u001b[0m\u001b[1;33m)\u001b[0m\u001b[1;33m\u001b[0m\u001b[1;33m\u001b[0m\u001b[0m\n\u001b[0m",
      "\u001b[1;32m<ipython-input-34-ff73e852a646>\u001b[0m in \u001b[0;36mcollect\u001b[1;34m()\u001b[0m\n\u001b[0;32m     45\u001b[0m \u001b[1;33m\u001b[0m\u001b[0m\n\u001b[0;32m     46\u001b[0m             \u001b[1;31m# main.c 들어가기\u001b[0m\u001b[1;33m\u001b[0m\u001b[1;33m\u001b[0m\u001b[1;33m\u001b[0m\u001b[0m\n\u001b[1;32m---> 47\u001b[1;33m             \u001b[0mdriver\u001b[0m\u001b[1;33m.\u001b[0m\u001b[0mfind_element_by_xpath\u001b[0m\u001b[1;33m(\u001b[0m\u001b[1;34m'//*[@title=\"main.c\"]'\u001b[0m\u001b[1;33m)\u001b[0m\u001b[1;33m.\u001b[0m\u001b[0mclick\u001b[0m\u001b[1;33m(\u001b[0m\u001b[1;33m)\u001b[0m\u001b[1;33m\u001b[0m\u001b[1;33m\u001b[0m\u001b[0m\n\u001b[0m\u001b[0;32m     48\u001b[0m             \u001b[0mtime\u001b[0m\u001b[1;33m.\u001b[0m\u001b[0msleep\u001b[0m\u001b[1;33m(\u001b[0m\u001b[1;36m1\u001b[0m\u001b[1;33m)\u001b[0m\u001b[1;33m\u001b[0m\u001b[1;33m\u001b[0m\u001b[0m\n\u001b[0;32m     49\u001b[0m \u001b[1;33m\u001b[0m\u001b[0m\n",
      "\u001b[1;32m~\\Anaconda3\\lib\\site-packages\\selenium\\webdriver\\remote\\webdriver.py\u001b[0m in \u001b[0;36mfind_element_by_xpath\u001b[1;34m(self, xpath)\u001b[0m\n\u001b[0;32m    392\u001b[0m             \u001b[0melement\u001b[0m \u001b[1;33m=\u001b[0m \u001b[0mdriver\u001b[0m\u001b[1;33m.\u001b[0m\u001b[0mfind_element_by_xpath\u001b[0m\u001b[1;33m(\u001b[0m\u001b[1;34m'//div/td[1]'\u001b[0m\u001b[1;33m)\u001b[0m\u001b[1;33m\u001b[0m\u001b[1;33m\u001b[0m\u001b[0m\n\u001b[0;32m    393\u001b[0m         \"\"\"\n\u001b[1;32m--> 394\u001b[1;33m         \u001b[1;32mreturn\u001b[0m \u001b[0mself\u001b[0m\u001b[1;33m.\u001b[0m\u001b[0mfind_element\u001b[0m\u001b[1;33m(\u001b[0m\u001b[0mby\u001b[0m\u001b[1;33m=\u001b[0m\u001b[0mBy\u001b[0m\u001b[1;33m.\u001b[0m\u001b[0mXPATH\u001b[0m\u001b[1;33m,\u001b[0m \u001b[0mvalue\u001b[0m\u001b[1;33m=\u001b[0m\u001b[0mxpath\u001b[0m\u001b[1;33m)\u001b[0m\u001b[1;33m\u001b[0m\u001b[1;33m\u001b[0m\u001b[0m\n\u001b[0m\u001b[0;32m    395\u001b[0m \u001b[1;33m\u001b[0m\u001b[0m\n\u001b[0;32m    396\u001b[0m     \u001b[1;32mdef\u001b[0m \u001b[0mfind_elements_by_xpath\u001b[0m\u001b[1;33m(\u001b[0m\u001b[0mself\u001b[0m\u001b[1;33m,\u001b[0m \u001b[0mxpath\u001b[0m\u001b[1;33m)\u001b[0m\u001b[1;33m:\u001b[0m\u001b[1;33m\u001b[0m\u001b[1;33m\u001b[0m\u001b[0m\n",
      "\u001b[1;32m~\\Anaconda3\\lib\\site-packages\\selenium\\webdriver\\remote\\webdriver.py\u001b[0m in \u001b[0;36mfind_element\u001b[1;34m(self, by, value)\u001b[0m\n\u001b[0;32m    976\u001b[0m         return self.execute(Command.FIND_ELEMENT, {\n\u001b[0;32m    977\u001b[0m             \u001b[1;34m'using'\u001b[0m\u001b[1;33m:\u001b[0m \u001b[0mby\u001b[0m\u001b[1;33m,\u001b[0m\u001b[1;33m\u001b[0m\u001b[1;33m\u001b[0m\u001b[0m\n\u001b[1;32m--> 978\u001b[1;33m             'value': value})['value']\n\u001b[0m\u001b[0;32m    979\u001b[0m \u001b[1;33m\u001b[0m\u001b[0m\n\u001b[0;32m    980\u001b[0m     \u001b[1;32mdef\u001b[0m \u001b[0mfind_elements\u001b[0m\u001b[1;33m(\u001b[0m\u001b[0mself\u001b[0m\u001b[1;33m,\u001b[0m \u001b[0mby\u001b[0m\u001b[1;33m=\u001b[0m\u001b[0mBy\u001b[0m\u001b[1;33m.\u001b[0m\u001b[0mID\u001b[0m\u001b[1;33m,\u001b[0m \u001b[0mvalue\u001b[0m\u001b[1;33m=\u001b[0m\u001b[1;32mNone\u001b[0m\u001b[1;33m)\u001b[0m\u001b[1;33m:\u001b[0m\u001b[1;33m\u001b[0m\u001b[1;33m\u001b[0m\u001b[0m\n",
      "\u001b[1;32m~\\Anaconda3\\lib\\site-packages\\selenium\\webdriver\\remote\\webdriver.py\u001b[0m in \u001b[0;36mexecute\u001b[1;34m(self, driver_command, params)\u001b[0m\n\u001b[0;32m    319\u001b[0m         \u001b[0mresponse\u001b[0m \u001b[1;33m=\u001b[0m \u001b[0mself\u001b[0m\u001b[1;33m.\u001b[0m\u001b[0mcommand_executor\u001b[0m\u001b[1;33m.\u001b[0m\u001b[0mexecute\u001b[0m\u001b[1;33m(\u001b[0m\u001b[0mdriver_command\u001b[0m\u001b[1;33m,\u001b[0m \u001b[0mparams\u001b[0m\u001b[1;33m)\u001b[0m\u001b[1;33m\u001b[0m\u001b[1;33m\u001b[0m\u001b[0m\n\u001b[0;32m    320\u001b[0m         \u001b[1;32mif\u001b[0m \u001b[0mresponse\u001b[0m\u001b[1;33m:\u001b[0m\u001b[1;33m\u001b[0m\u001b[1;33m\u001b[0m\u001b[0m\n\u001b[1;32m--> 321\u001b[1;33m             \u001b[0mself\u001b[0m\u001b[1;33m.\u001b[0m\u001b[0merror_handler\u001b[0m\u001b[1;33m.\u001b[0m\u001b[0mcheck_response\u001b[0m\u001b[1;33m(\u001b[0m\u001b[0mresponse\u001b[0m\u001b[1;33m)\u001b[0m\u001b[1;33m\u001b[0m\u001b[1;33m\u001b[0m\u001b[0m\n\u001b[0m\u001b[0;32m    322\u001b[0m             response['value'] = self._unwrap_value(\n\u001b[0;32m    323\u001b[0m                 response.get('value', None))\n",
      "\u001b[1;32m~\\Anaconda3\\lib\\site-packages\\selenium\\webdriver\\remote\\errorhandler.py\u001b[0m in \u001b[0;36mcheck_response\u001b[1;34m(self, response)\u001b[0m\n\u001b[0;32m    240\u001b[0m                 \u001b[0malert_text\u001b[0m \u001b[1;33m=\u001b[0m \u001b[0mvalue\u001b[0m\u001b[1;33m[\u001b[0m\u001b[1;34m'alert'\u001b[0m\u001b[1;33m]\u001b[0m\u001b[1;33m.\u001b[0m\u001b[0mget\u001b[0m\u001b[1;33m(\u001b[0m\u001b[1;34m'text'\u001b[0m\u001b[1;33m)\u001b[0m\u001b[1;33m\u001b[0m\u001b[1;33m\u001b[0m\u001b[0m\n\u001b[0;32m    241\u001b[0m             \u001b[1;32mraise\u001b[0m \u001b[0mexception_class\u001b[0m\u001b[1;33m(\u001b[0m\u001b[0mmessage\u001b[0m\u001b[1;33m,\u001b[0m \u001b[0mscreen\u001b[0m\u001b[1;33m,\u001b[0m \u001b[0mstacktrace\u001b[0m\u001b[1;33m,\u001b[0m \u001b[0malert_text\u001b[0m\u001b[1;33m)\u001b[0m\u001b[1;33m\u001b[0m\u001b[1;33m\u001b[0m\u001b[0m\n\u001b[1;32m--> 242\u001b[1;33m         \u001b[1;32mraise\u001b[0m \u001b[0mexception_class\u001b[0m\u001b[1;33m(\u001b[0m\u001b[0mmessage\u001b[0m\u001b[1;33m,\u001b[0m \u001b[0mscreen\u001b[0m\u001b[1;33m,\u001b[0m \u001b[0mstacktrace\u001b[0m\u001b[1;33m)\u001b[0m\u001b[1;33m\u001b[0m\u001b[1;33m\u001b[0m\u001b[0m\n\u001b[0m\u001b[0;32m    243\u001b[0m \u001b[1;33m\u001b[0m\u001b[0m\n\u001b[0;32m    244\u001b[0m     \u001b[1;32mdef\u001b[0m \u001b[0m_value_or_default\u001b[0m\u001b[1;33m(\u001b[0m\u001b[0mself\u001b[0m\u001b[1;33m,\u001b[0m \u001b[0mobj\u001b[0m\u001b[1;33m,\u001b[0m \u001b[0mkey\u001b[0m\u001b[1;33m,\u001b[0m \u001b[0mdefault\u001b[0m\u001b[1;33m)\u001b[0m\u001b[1;33m:\u001b[0m\u001b[1;33m\u001b[0m\u001b[1;33m\u001b[0m\u001b[0m\n",
      "\u001b[1;31mNoSuchElementException\u001b[0m: Message: no such element: Unable to locate element: {\"method\":\"xpath\",\"selector\":\"//*[@title=\"main.c\"]\"}\n  (Session info: chrome=78.0.3904.97)\n"
     ]
    }
   ],
   "source": [
    "#test for에서 마지막 범위 수정\n",
    "\n",
    "from selenium import webdriver\n",
    "import time\n",
    "from bs4 import BeautifulSoup\n",
    "import pandas as pd\n",
    "import numpy as np\n",
    "driver = webdriver.Chrome('c:/chromedriver')\n",
    "driver.get(\"https://github.com/skdltm517?tab=following\")\n",
    "\n",
    "\n",
    "def collect():\n",
    "    #학생 리스트 받아오기\n",
    "    html_students = driver.page_source\n",
    "    soup_students = BeautifulSoup(html_students, 'html.parser')\n",
    "    students_raw_list = soup_students.find_all('span', class_ = 'link-gray pl-1')\n",
    "    students_list = [i.string for i in students_raw_list]\n",
    "    time.sleep(1)\n",
    "    \n",
    "    #학생 페이지 가서 긁기 전체\n",
    "    for i in range(0,1):\n",
    "        # following 에서 학생 ID 클릭\n",
    "        i += 1\n",
    "        driver.find_element_by_xpath(\"\"\"//*[@id=\"js-pjax-container\"]/div/div[4]/div[3]/div[{}]/div[2]/a/span[2]\"\"\".format(i)).click()\n",
    "        time.sleep(1)\n",
    "        # repositories 메뉴 클릭\n",
    "        driver.find_element_by_xpath(\"\"\"//*[@id=\"js-pjax-container\"]/div/div[4]/div[2]/nav/a[2]\"\"\").click()\n",
    "        time.sleep(1)\n",
    "        \n",
    "        # repositories 메뉴 파싱\n",
    "        html_repositories = driver.page_source\n",
    "        soup_repositories = BeautifulSoup(html_repositories, 'html.parser')\n",
    "        time.sleep(1)\n",
    "        \n",
    "        # repositories text만 분류\n",
    "        repositories_raw_list = soup_repositories.find_all('div', class_=\"d-inline-block mb-1\")\n",
    "        repositories_list = [k.get_text() for k in repositories_raw_list]\n",
    "        time.sleep(1)\n",
    "        \n",
    "        for j in range(0,2):\n",
    "            #과제 클릭\n",
    "            j += 1\n",
    "            driver.find_element_by_xpath(\"\"\"//*[@id=\"user-repositories-list\"]/ul/li[{}]/div[1]/div[1]/h3/a\"\"\".format(j)).click()  \n",
    "            time.sleep(1)\n",
    "            \n",
    "            # main.c 들어가기\n",
    "            driver.find_element_by_xpath('//*[@title=\"main.c\"]').click()\n",
    "            time.sleep(1)\n",
    "            # main 없을때 그냥 뒤로 가는거 추가해야함\n",
    "            \n",
    "            # history 버튼 누르기\n",
    "            driver.find_element_by_xpath(\"\"\"//*[@id=\"js-repo-pjax-container\"]/div[2]/div/div[4]/div[1]/div[2]/div[1]/a[3]\"\"\").click()\n",
    "            \n",
    "            # history 내역 페이지 파싱\n",
    "            html_history = driver.page_source\n",
    "            soup_history = BeautifulSoup(html_history, 'html.parser')\n",
    "            time.sleep(1)\n",
    "            \n",
    "            #history text만 분류\n",
    "            history_raw_list = soup_history.find_all('a', class_ = \"message js-navigation-open\")\n",
    "            history_list = [m.get_text() for m in history_raw_list]\n",
    "            \n",
    "            \n",
    "            \n",
    "            code_list = []\n",
    "            for h in history_list:\n",
    "\n",
    "                driver.find_element_by_xpath('//*[@aria-label=\"{}\"]'.format(h)).click()  # aria-label로 클릭\n",
    "                time.sleep(2)\n",
    "                \n",
    "                html_code = driver.page_source  #코드 작성 페이지를 html에 저장\n",
    "                soup_code = BeautifulSoup(html_code, 'html.parser') #파싱\n",
    "                time.sleep(1)\n",
    "                \n",
    "                code_raw_list = soup_code.find_all(\"span\", class_ = 'blob-code-inner') #코드 부분 html을 test에 저장\n",
    "                code_list_ = [q.get_text() for q in code_raw_list] # 코드부분 text를 리스트에 저장\n",
    "                code_list.append(code_list_)\n",
    "                time.sleep(2)\n",
    "                \n",
    "                driver.back()  # 뒤로가기\n",
    "                time.sleep(1)\n",
    "                count+=1\n",
    "                \n",
    "                print(i, j, h, \"진행 완료\")\n",
    "            \n",
    "            #code_list를 dataframe으로 만들어서 txt 파일로 저장\n",
    "            df = pd.DataFrame(code_list)\n",
    "            df.to_csv('./result.csv')\n",
    "            \n",
    "            driver.back()  # 뒤로가기\n",
    "            time.sleep(1)\n",
    "        driver.back()  # 뒤로가기(학생 처음 눌렀을때 페이지로 감)\n",
    "        time.sleep(1)      \n",
    "        driver.back()  # 뒤로가기(학생 고르는 페이지로 감)\n",
    "        time.sleep(1)      \n",
    "    return code_list\n",
    "    \n",
    "result = collect()"
   ]
  },
  {
   "cell_type": "code",
   "execution_count": null,
   "metadata": {},
   "outputs": [],
   "source": []
  }
 ],
 "metadata": {
  "kernelspec": {
   "display_name": "Python 3",
   "language": "python",
   "name": "python3"
  },
  "language_info": {
   "codemirror_mode": {
    "name": "ipython",
    "version": 3
   },
   "file_extension": ".py",
   "mimetype": "text/x-python",
   "name": "python",
   "nbconvert_exporter": "python",
   "pygments_lexer": "ipython3",
   "version": "3.7.4"
  }
 },
 "nbformat": 4,
 "nbformat_minor": 2
}
